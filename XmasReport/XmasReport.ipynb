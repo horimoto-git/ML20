{
  "nbformat": 4,
  "nbformat_minor": 0,
  "metadata": {
    "colab": {
      "name": "XmasReport.ipynb",
      "provenance": []
    },
    "kernelspec": {
      "name": "python3",
      "display_name": "Python 3"
    }
  },
  "cells": [
    {
      "cell_type": "markdown",
      "metadata": {
        "id": "COMpmxzkyJmR"
      },
      "source": [
        "クリスマスかお正月ということで、年代別お年玉平均から2020年代〜2040年代のお年玉の平均を機械学習で調べました。"
      ]
    },
    {
      "cell_type": "code",
      "metadata": {
        "colab": {
          "base_uri": "https://localhost:8080/",
          "height": 333
        },
        "id": "4l8KPaDOVS90",
        "outputId": "339aec8a-6f59-47f3-a957-0ca8befd2a5e"
      },
      "source": [
        "\n",
        "\n",
        "import matplotlib.pyplot as plt\n",
        "import numpy as np\n",
        "import pandas as pd\n",
        "from sklearn.linear_model import LinearRegression\n",
        "m_path = \"/content/drive/MyDrive/Colab Notebooks/\"\n",
        "\n",
        "New_year_present = [1000,2040,2223,4007,4217,5117,6021]\n",
        "New_years = [1950,1960,1970,1980,1990,2000,2010]\n",
        "\n",
        "x = New_years\n",
        "y = New_year_present\n",
        "\n",
        "x = np.array(New_years).reshape(-1,1)\n",
        "y = np.array(New_year_present).reshape(-1,1)\n",
        "\n",
        "lr = LinearRegression()\n",
        "lr.fit(x,y)\n",
        "coef = list(lr.coef_)\n",
        "intercept = lr.intercept_\n",
        "\n",
        "predict_x = [2020,2030,2040]\n",
        "X_pred = np.array(predict_x).reshape(-1,1)\n",
        "\n",
        "Y_pred = lr.predict(X_pred)\n",
        "\n",
        "print(Y_pred)\n",
        "\n",
        "x = np.concatenate([x, X_pred])\n",
        "y = np.concatenate([y, Y_pred])\n",
        "\n",
        "# 散布図\n",
        "plt.scatter(x, y)"
      ],
      "execution_count": 32,
      "outputs": [
        {
          "output_type": "stream",
          "text": [
            "[[6833.71428571]\n",
            " [7662.67857143]\n",
            " [8491.64285714]]\n"
          ],
          "name": "stdout"
        },
        {
          "output_type": "execute_result",
          "data": {
            "text/plain": [
              "<matplotlib.collections.PathCollection at 0x7fcc7dccc2e8>"
            ]
          },
          "metadata": {
            "tags": []
          },
          "execution_count": 32
        },
        {
          "output_type": "display_data",
          "data": {
            "image/png": "[encoded data removed]",
            "text/plain": [
              "<Figure size 432x288 with 1 Axes>"
            ]
          },
          "metadata": {
            "tags": [],
            "needs_background": "light"
          }
        }
      ]
    },
    {
      "cell_type": "code",
      "metadata": {
        "id": "t0XxjVouryWX"
      },
      "source": [
        ""
      ],
      "execution_count": null,
      "outputs": []
    }
  ]
}